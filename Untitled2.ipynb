{
  "nbformat": 4,
  "nbformat_minor": 0,
  "metadata": {
    "colab": {
      "provenance": [],
      "authorship_tag": "ABX9TyNVyPf8xDievuUIBeEsIHvD",
      "include_colab_link": true
    },
    "kernelspec": {
      "name": "python3",
      "display_name": "Python 3"
    },
    "language_info": {
      "name": "python"
    }
  },
  "cells": [
    {
      "cell_type": "markdown",
      "metadata": {
        "id": "view-in-github",
        "colab_type": "text"
      },
      "source": [
        "<a href=\"https://colab.research.google.com/github/Srinivasan7831/naan_mudhalvan1/blob/main/Untitled2.ipynb\" target=\"_parent\"><img src=\"https://colab.research.google.com/assets/colab-badge.svg\" alt=\"Open In Colab\"/></a>"
      ]
    },
    {
      "cell_type": "code",
      "source": [
        "pip install streamlit streamlit-image-coordinates\n"
      ],
      "metadata": {
        "colab": {
          "base_uri": "https://localhost:8080/"
        },
        "id": "1qkfr80L1ZGb",
        "outputId": "1edf0d39-11c9-483d-ae6f-b9f2f5f02c52"
      },
      "execution_count": null,
      "outputs": [
        {
          "output_type": "stream",
          "name": "stdout",
          "text": [
            "Requirement already satisfied: streamlit in /usr/local/lib/python3.12/dist-packages (1.49.1)\n",
            "Requirement already satisfied: streamlit-image-coordinates in /usr/local/lib/python3.12/dist-packages (0.4.0)\n",
            "Requirement already satisfied: altair!=5.4.0,!=5.4.1,<6,>=4.0 in /usr/local/lib/python3.12/dist-packages (from streamlit) (5.5.0)\n",
            "Requirement already satisfied: blinker<2,>=1.5.0 in /usr/local/lib/python3.12/dist-packages (from streamlit) (1.9.0)\n",
            "Requirement already satisfied: cachetools<7,>=4.0 in /usr/local/lib/python3.12/dist-packages (from streamlit) (5.5.2)\n",
            "Requirement already satisfied: click<9,>=7.0 in /usr/local/lib/python3.12/dist-packages (from streamlit) (8.2.1)\n",
            "Requirement already satisfied: numpy<3,>=1.23 in /usr/local/lib/python3.12/dist-packages (from streamlit) (2.0.2)\n",
            "Requirement already satisfied: packaging<26,>=20 in /usr/local/lib/python3.12/dist-packages (from streamlit) (25.0)\n",
            "Requirement already satisfied: pandas<3,>=1.4.0 in /usr/local/lib/python3.12/dist-packages (from streamlit) (2.2.2)\n",
            "Requirement already satisfied: pillow<12,>=7.1.0 in /usr/local/lib/python3.12/dist-packages (from streamlit) (11.3.0)\n",
            "Requirement already satisfied: protobuf<7,>=3.20 in /usr/local/lib/python3.12/dist-packages (from streamlit) (5.29.5)\n",
            "Requirement already satisfied: pyarrow>=7.0 in /usr/local/lib/python3.12/dist-packages (from streamlit) (18.1.0)\n",
            "Requirement already satisfied: requests<3,>=2.27 in /usr/local/lib/python3.12/dist-packages (from streamlit) (2.32.4)\n",
            "Requirement already satisfied: tenacity<10,>=8.1.0 in /usr/local/lib/python3.12/dist-packages (from streamlit) (8.5.0)\n",
            "Requirement already satisfied: toml<2,>=0.10.1 in /usr/local/lib/python3.12/dist-packages (from streamlit) (0.10.2)\n",
            "Requirement already satisfied: typing-extensions<5,>=4.4.0 in /usr/local/lib/python3.12/dist-packages (from streamlit) (4.15.0)\n",
            "Requirement already satisfied: watchdog<7,>=2.1.5 in /usr/local/lib/python3.12/dist-packages (from streamlit) (6.0.0)\n",
            "Requirement already satisfied: gitpython!=3.1.19,<4,>=3.0.7 in /usr/local/lib/python3.12/dist-packages (from streamlit) (3.1.45)\n",
            "Requirement already satisfied: pydeck<1,>=0.8.0b4 in /usr/local/lib/python3.12/dist-packages (from streamlit) (0.9.1)\n",
            "Requirement already satisfied: tornado!=6.5.0,<7,>=6.0.3 in /usr/local/lib/python3.12/dist-packages (from streamlit) (6.4.2)\n",
            "Requirement already satisfied: jinja2 in /usr/local/lib/python3.12/dist-packages (from altair!=5.4.0,!=5.4.1,<6,>=4.0->streamlit) (3.1.6)\n",
            "Requirement already satisfied: jsonschema>=3.0 in /usr/local/lib/python3.12/dist-packages (from altair!=5.4.0,!=5.4.1,<6,>=4.0->streamlit) (4.25.1)\n",
            "Requirement already satisfied: narwhals>=1.14.2 in /usr/local/lib/python3.12/dist-packages (from altair!=5.4.0,!=5.4.1,<6,>=4.0->streamlit) (2.3.0)\n",
            "Requirement already satisfied: gitdb<5,>=4.0.1 in /usr/local/lib/python3.12/dist-packages (from gitpython!=3.1.19,<4,>=3.0.7->streamlit) (4.0.12)\n",
            "Requirement already satisfied: python-dateutil>=2.8.2 in /usr/local/lib/python3.12/dist-packages (from pandas<3,>=1.4.0->streamlit) (2.9.0.post0)\n",
            "Requirement already satisfied: pytz>=2020.1 in /usr/local/lib/python3.12/dist-packages (from pandas<3,>=1.4.0->streamlit) (2025.2)\n",
            "Requirement already satisfied: tzdata>=2022.7 in /usr/local/lib/python3.12/dist-packages (from pandas<3,>=1.4.0->streamlit) (2025.2)\n",
            "Requirement already satisfied: charset_normalizer<4,>=2 in /usr/local/lib/python3.12/dist-packages (from requests<3,>=2.27->streamlit) (3.4.3)\n",
            "Requirement already satisfied: idna<4,>=2.5 in /usr/local/lib/python3.12/dist-packages (from requests<3,>=2.27->streamlit) (3.10)\n",
            "Requirement already satisfied: urllib3<3,>=1.21.1 in /usr/local/lib/python3.12/dist-packages (from requests<3,>=2.27->streamlit) (2.5.0)\n",
            "Requirement already satisfied: certifi>=2017.4.17 in /usr/local/lib/python3.12/dist-packages (from requests<3,>=2.27->streamlit) (2025.8.3)\n",
            "Requirement already satisfied: smmap<6,>=3.0.1 in /usr/local/lib/python3.12/dist-packages (from gitdb<5,>=4.0.1->gitpython!=3.1.19,<4,>=3.0.7->streamlit) (5.0.2)\n",
            "Requirement already satisfied: MarkupSafe>=2.0 in /usr/local/lib/python3.12/dist-packages (from jinja2->altair!=5.4.0,!=5.4.1,<6,>=4.0->streamlit) (3.0.2)\n",
            "Requirement already satisfied: attrs>=22.2.0 in /usr/local/lib/python3.12/dist-packages (from jsonschema>=3.0->altair!=5.4.0,!=5.4.1,<6,>=4.0->streamlit) (25.3.0)\n",
            "Requirement already satisfied: jsonschema-specifications>=2023.03.6 in /usr/local/lib/python3.12/dist-packages (from jsonschema>=3.0->altair!=5.4.0,!=5.4.1,<6,>=4.0->streamlit) (2025.4.1)\n",
            "Requirement already satisfied: referencing>=0.28.4 in /usr/local/lib/python3.12/dist-packages (from jsonschema>=3.0->altair!=5.4.0,!=5.4.1,<6,>=4.0->streamlit) (0.36.2)\n",
            "Requirement already satisfied: rpds-py>=0.7.1 in /usr/local/lib/python3.12/dist-packages (from jsonschema>=3.0->altair!=5.4.0,!=5.4.1,<6,>=4.0->streamlit) (0.27.1)\n",
            "Requirement already satisfied: six>=1.5 in /usr/local/lib/python3.12/dist-packages (from python-dateutil>=2.8.2->pandas<3,>=1.4.0->streamlit) (1.17.0)\n"
          ]
        }
      ]
    },
    {
      "cell_type": "code",
      "execution_count": null,
      "metadata": {
        "colab": {
          "base_uri": "https://localhost:8080/"
        },
        "id": "fRMIV7Vh1J8n",
        "outputId": "bc94f628-a203-40c7-f68b-7ed819d4dde6"
      },
      "outputs": [
        {
          "output_type": "stream",
          "name": "stderr",
          "text": [
            "2025-09-16 09:37:43.818 Thread 'MainThread': missing ScriptRunContext! This warning can be ignored when running in bare mode.\n",
            "2025-09-16 09:37:43.822 Thread 'MainThread': missing ScriptRunContext! This warning can be ignored when running in bare mode.\n",
            "2025-09-16 09:37:43.823 Thread 'MainThread': missing ScriptRunContext! This warning can be ignored when running in bare mode.\n",
            "2025-09-16 09:37:43.824 Thread 'MainThread': missing ScriptRunContext! This warning can be ignored when running in bare mode.\n",
            "2025-09-16 09:37:43.824 Thread 'MainThread': missing ScriptRunContext! This warning can be ignored when running in bare mode.\n",
            "2025-09-16 09:37:43.825 Thread 'MainThread': missing ScriptRunContext! This warning can be ignored when running in bare mode.\n",
            "2025-09-16 09:37:43.828 Thread 'MainThread': missing ScriptRunContext! This warning can be ignored when running in bare mode.\n",
            "2025-09-16 09:37:43.842 Thread 'MainThread': missing ScriptRunContext! This warning can be ignored when running in bare mode.\n",
            "2025-09-16 09:37:43.843 Thread 'MainThread': missing ScriptRunContext! This warning can be ignored when running in bare mode.\n",
            "2025-09-16 09:37:43.844 Thread 'MainThread': missing ScriptRunContext! This warning can be ignored when running in bare mode.\n",
            "2025-09-16 09:37:43.848 Thread 'MainThread': missing ScriptRunContext! This warning can be ignored when running in bare mode.\n",
            "2025-09-16 09:37:43.849 Thread 'MainThread': missing ScriptRunContext! This warning can be ignored when running in bare mode.\n",
            "2025-09-16 09:37:43.849 Thread 'MainThread': missing ScriptRunContext! This warning can be ignored when running in bare mode.\n",
            "2025-09-16 09:37:43.850 Thread 'MainThread': missing ScriptRunContext! This warning can be ignored when running in bare mode.\n",
            "2025-09-16 09:37:43.851 Thread 'MainThread': missing ScriptRunContext! This warning can be ignored when running in bare mode.\n",
            "2025-09-16 09:37:43.851 Thread 'MainThread': missing ScriptRunContext! This warning can be ignored when running in bare mode.\n",
            "2025-09-16 09:37:43.853 Thread 'MainThread': missing ScriptRunContext! This warning can be ignored when running in bare mode.\n",
            "2025-09-16 09:37:43.853 Thread 'MainThread': missing ScriptRunContext! This warning can be ignored when running in bare mode.\n",
            "2025-09-16 09:37:43.854 Thread 'MainThread': missing ScriptRunContext! This warning can be ignored when running in bare mode.\n"
          ]
        }
      ],
      "source": [
        "# app.py\n",
        "import streamlit as st\n",
        "from PIL import Image\n",
        "import pandas as pd\n",
        "import numpy as np\n",
        "import os\n",
        "\n",
        "# Component to get click coordinates from image\n",
        "from streamlit_image_coordinates import streamlit_image_coordinates\n",
        "\n",
        "st.set_page_config(page_title=\"Color Detection App\", layout=\"centered\")\n",
        "\n",
        "st.title(\"🎨 Color Detection App\")\n",
        "st.write(\"Upload an image, click anywhere to detect the pixel’s color from your dataset.\")\n",
        "\n",
        "# ============ Load your dataset ============\n",
        "\n",
        "def load_colors_csv(path=\"/content/colors.csv\"):\n",
        "    \"\"\"Load your custom color dataset.\"\"\"\n",
        "    if os.path.exists(path):\n",
        "        try:\n",
        "            # Attempt to read as comma-separated with no header\n",
        "            df = pd.read_csv(path, header=None)\n",
        "            # Assuming the columns are in the order: color_name, hex, R, G, B\n",
        "            if df.shape[1] >= 5:\n",
        "                df.columns = ['color_name', 'hex', 'R', 'G', 'B'] + list(range(5, df.shape[1]))\n",
        "                # Ensure R, G, B columns are numeric\n",
        "                df['R'] = pd.to_numeric(df['R'], errors='coerce')\n",
        "                df['G'] = pd.to_numeric(df['G'], errors='coerce')\n",
        "                df['B'] = pd.to_numeric(df['B'], errors='coerce')\n",
        "                # Drop rows where R, G, or B could not be converted to numeric\n",
        "                df.dropna(subset=['R', 'G', 'B'], inplace=True)\n",
        "                st.success(f\"Successfully loaded colors data from {path}\")\n",
        "                return df[['color_name','R','G','B']]\n",
        "            else:\n",
        "                st.error(f\"The file {path} does not have the expected number of columns.\")\n",
        "        except Exception as e:\n",
        "            st.error(f\"Error reading colors.csv from {path}: {e}\")\n",
        "    else:\n",
        "        st.error(f\"Color dataset not found at {path}. Please make sure 'colors.csv' is uploaded.\")\n",
        "    return None\n",
        "\n",
        "\n",
        "colors_df = load_colors_csv(\"/content/colors.csv\") # Use absolute path\n",
        "\n",
        "if colors_df is None:\n",
        "    st.stop()\n",
        "\n",
        "color_names = colors_df['color_name'].tolist()\n",
        "colors_arr = colors_df[['R','G','B']].values.astype(int)\n",
        "\n",
        "# Function to find closest color from dataset\n",
        "def closest_color_name(rgb_tuple):\n",
        "    r,g,b = rgb_tuple\n",
        "    diffs = colors_arr - np.array([r,g,b])\n",
        "    dists = np.sum(diffs.astype(int)**2, axis=1)\n",
        "    idx = int(np.argmin(dists))\n",
        "    return color_names[idx]\n",
        "\n",
        "# ============ Upload image ============\n",
        "\n",
        "uploaded = st.file_uploader(\"Upload an image\", type=[\"png\",\"jpg\",\"jpeg\"]) # Removed default path from file_uploader\n",
        "\n",
        "if uploaded is not None:\n",
        "    img = Image.open(uploaded).convert(\"RGB\")\n",
        "\n",
        "    st.write(\"Click anywhere on the image below to detect the color:\")\n",
        "\n",
        "    coords = streamlit_image_coordinates(img, key=\"click\")\n",
        "    if coords is not None:\n",
        "        x = int(coords[\"x\"])\n",
        "        y = int(coords[\"y\"])\n",
        "        w,h = img.size\n",
        "        if 0 <= x < w and 0 <= y < h:\n",
        "            r,g,b = img.getpixel((x,y))\n",
        "            name = closest_color_name((r,g,b))\n",
        "            hexcol = '#%02x%02x%02x' % (r,g,b)\n",
        "\n",
        "            st.markdown(f\"### 🎯 Clicked at (x={x}, y={y})\")\n",
        "            st.write(f\"**RGB:** ({r}, {g}, {b})\")\n",
        "            st.write(f\"**Closest Color Name:** {name}\")\n",
        "            st.write(f\"**Hex:** {hexcol}\")\n",
        "\n",
        "            st.markdown(\n",
        "                f\"\"\"\n",
        "                <div style=\"width:150px;height:80px;border-radius:6px;border:1px solid #444;background:{hexcol};\"></div>\n",
        "                \"\"\",\n",
        "                unsafe_allow_html=True\n",
        "            )\n",
        "        else:\n",
        "            st.warning(\"Click inside the image area.\")\n",
        "else:\n",
        "    st.info(\"Upload an image to begin.\")"
      ]
    },
    {
      "cell_type": "code",
      "metadata": {
        "colab": {
          "base_uri": "https://localhost:8080/"
        },
        "id": "81c9905a",
        "outputId": "680387fb-d89a-4ffd-9e09-9dc558af3132"
      },
      "source": [
        "import pandas as pd\n",
        "\n",
        "try:\n",
        "    # Attempt to read the CSV assuming tab separation first\n",
        "    df_tab = pd.read_csv('/content/colors.csv', sep='\\t', header=None)\n",
        "    print(\"Attempting to read with tab separator:\")\n",
        "    print(df_tab.head())\n",
        "except Exception as e:\n",
        "    print(f\"Could not read with tab separator: {e}\")\n",
        "    df_tab = None\n",
        "\n",
        "try:\n",
        "    # Attempt to read the CSV assuming comma separation\n",
        "    df_comma = pd.read_csv('/content/colors.csv')\n",
        "    print(\"\\nAttempting to read with comma separator:\")\n",
        "    print(df_comma.head())\n",
        "except Exception as e:\n",
        "    print(f\"Could not read with comma separator: {e}\")\n",
        "    df_comma = None\n",
        "\n",
        "if df_tab is None and df_comma is None:\n",
        "    print(\"\\nCould not read the CSV file with either tab or comma separation.\")"
      ],
      "execution_count": null,
      "outputs": [
        {
          "output_type": "stream",
          "name": "stdout",
          "text": [
            "Attempting to read with tab separator:\n",
            "                                          0\n",
            "0   Air Force Blue (Raf),#5d8aa8,93,138,168\n",
            "1    Air Force Blue (Usaf),#00308f,0,48,143\n",
            "2  Air Superiority Blue,#72a0c1,114,160,193\n",
            "3         Alabama Crimson,#a32638,163,38,56\n",
            "4            Alice Blue,#f0f8ff,240,248,255\n",
            "\n",
            "Attempting to read with comma separator:\n",
            "    Air Force Blue (Raf)  #5d8aa8   93  138  168\n",
            "0  Air Force Blue (Usaf)  #00308f    0   48  143\n",
            "1   Air Superiority Blue  #72a0c1  114  160  193\n",
            "2        Alabama Crimson  #a32638  163   38   56\n",
            "3             Alice Blue  #f0f8ff  240  248  255\n",
            "4       Alizarin Crimson  #e32636  227   38   54\n"
          ]
        }
      ]
    },
    {
      "cell_type": "code",
      "source": [],
      "metadata": {
        "id": "z4-XnYhk1XQ6"
      },
      "execution_count": null,
      "outputs": []
    },
    {
      "cell_type": "markdown",
      "metadata": {
        "id": "cd85916e"
      },
      "source": [
        "# Task\n",
        "Push the Streamlit application code (`app.py`) and the \"colors.csv\" file to the GitHub repository at \"https://github.com/Srinivasan7831/naan_mudhalvan.git\"."
      ]
    },
    {
      "cell_type": "markdown",
      "metadata": {
        "id": "a4f8271b"
      },
      "source": [
        "## Install git (if not already installed)\n",
        "\n",
        "### Subtask:\n",
        "Ensure Git is installed in your environment.\n"
      ]
    },
    {
      "cell_type": "markdown",
      "metadata": {
        "id": "c694d60b"
      },
      "source": [
        "**Reasoning**:\n",
        "Update the package list using apt-get update to ensure the latest package information is available before installing Git.\n",
        "\n"
      ]
    },
    {
      "cell_type": "code",
      "metadata": {
        "colab": {
          "base_uri": "https://localhost:8080/"
        },
        "id": "00891f35",
        "outputId": "5b58c1e0-32bd-4b9e-e1d5-8730f3e11b07"
      },
      "source": [
        "!apt-get update"
      ],
      "execution_count": null,
      "outputs": [
        {
          "output_type": "stream",
          "name": "stdout",
          "text": [
            "\r0% [Working]\r            \rGet:1 https://developer.download.nvidia.com/compute/cuda/repos/ubuntu2204/x86_64  InRelease [1,581 B]\n",
            "\r            \rGet:2 https://cli.github.com/packages stable InRelease [3,917 B]\n",
            "Get:3 https://cloud.r-project.org/bin/linux/ubuntu jammy-cran40/ InRelease [3,632 B]\n",
            "Get:4 https://cli.github.com/packages stable/main amd64 Packages [346 B]\n",
            "Get:5 https://developer.download.nvidia.com/compute/cuda/repos/ubuntu2204/x86_64  Packages [2,006 kB]\n",
            "Get:6 http://security.ubuntu.com/ubuntu jammy-security InRelease [129 kB]\n",
            "Get:7 https://r2u.stat.illinois.edu/ubuntu jammy InRelease [6,555 B]\n",
            "Hit:8 http://archive.ubuntu.com/ubuntu jammy InRelease\n",
            "Get:9 http://archive.ubuntu.com/ubuntu jammy-updates InRelease [128 kB]\n",
            "Get:10 https://r2u.stat.illinois.edu/ubuntu jammy/main amd64 Packages [2,795 kB]\n",
            "Get:11 http://security.ubuntu.com/ubuntu jammy-security/universe amd64 Packages [1,274 kB]\n",
            "Get:12 https://r2u.stat.illinois.edu/ubuntu jammy/main all Packages [9,267 kB]\n",
            "Get:13 http://archive.ubuntu.com/ubuntu jammy-backports InRelease [127 kB]\n",
            "Hit:14 https://ppa.launchpadcontent.net/deadsnakes/ppa/ubuntu jammy InRelease\n",
            "Get:15 http://archive.ubuntu.com/ubuntu jammy-updates/universe amd64 Packages [1,581 kB]\n",
            "Get:16 https://ppa.launchpadcontent.net/graphics-drivers/ppa/ubuntu jammy InRelease [24.3 kB]\n",
            "Hit:17 https://ppa.launchpadcontent.net/ubuntugis/ppa/ubuntu jammy InRelease\n",
            "Get:18 http://security.ubuntu.com/ubuntu jammy-security/restricted amd64 Packages [5,441 kB]\n",
            "Get:19 https://ppa.launchpadcontent.net/graphics-drivers/ppa/ubuntu jammy/main amd64 Packages [43.2 kB]\n",
            "Get:20 http://archive.ubuntu.com/ubuntu jammy-updates/restricted amd64 Packages [5,627 kB]\n",
            "Get:21 http://security.ubuntu.com/ubuntu jammy-security/multiverse amd64 Packages [80.3 kB]\n",
            "Get:22 http://security.ubuntu.com/ubuntu jammy-security/main amd64 Packages [3,311 kB]\n",
            "Get:23 http://archive.ubuntu.com/ubuntu jammy-updates/multiverse amd64 Packages [88.8 kB]\n",
            "Get:24 http://archive.ubuntu.com/ubuntu jammy-updates/main amd64 Packages [3,624 kB]\n",
            "Fetched 35.6 MB in 3s (13.1 MB/s)\n",
            "Reading package lists... Done\n",
            "W: Skipping acquire of configured file 'main/source/Sources' as repository 'https://r2u.stat.illinois.edu/ubuntu jammy InRelease' does not seem to provide it (sources.list entry misspelt?)\n"
          ]
        }
      ]
    },
    {
      "cell_type": "markdown",
      "metadata": {
        "id": "9bca83df"
      },
      "source": [
        "**Reasoning**:\n",
        "Install Git using apt-get install git -y. The -y flag will automatically answer yes to any prompts during the installation.\n",
        "\n"
      ]
    },
    {
      "cell_type": "code",
      "metadata": {
        "colab": {
          "base_uri": "https://localhost:8080/"
        },
        "id": "f0b4ff15",
        "outputId": "cb32918d-821e-49ba-b761-fe0d162a11c2"
      },
      "source": [
        "!apt-get install git -y"
      ],
      "execution_count": null,
      "outputs": [
        {
          "output_type": "stream",
          "name": "stdout",
          "text": [
            "Reading package lists... Done\n",
            "Building dependency tree... Done\n",
            "Reading state information... Done\n",
            "git is already the newest version (1:2.34.1-1ubuntu1.15).\n",
            "0 upgraded, 0 newly installed, 0 to remove and 50 not upgraded.\n"
          ]
        }
      ]
    },
    {
      "cell_type": "markdown",
      "metadata": {
        "id": "62ca41ab"
      },
      "source": [
        "## Configure git\n",
        "\n",
        "### Subtask:\n",
        "Set up your Git username and email.\n"
      ]
    },
    {
      "cell_type": "markdown",
      "metadata": {
        "id": "bf8c8dea"
      },
      "source": [
        "**Reasoning**:\n",
        "Configure the Git username and email address.\n",
        "\n"
      ]
    },
    {
      "cell_type": "code",
      "metadata": {
        "id": "a9e5fffb"
      },
      "source": [
        "!git config --global user.name \"Your Name\"\n",
        "!git config --global user.email \"your.email@example.com\""
      ],
      "execution_count": null,
      "outputs": []
    },
    {
      "cell_type": "markdown",
      "metadata": {
        "id": "3e110d82"
      },
      "source": [
        "## Clone the repository\n",
        "\n",
        "### Subtask:\n",
        "Clone the target GitHub repository to your Colab environment.\n"
      ]
    },
    {
      "cell_type": "markdown",
      "metadata": {
        "id": "d2fa5e1e"
      },
      "source": [
        "**Reasoning**:\n",
        "Clone the specified GitHub repository to the current environment and then list the contents to confirm the cloning was successful.\n",
        "\n"
      ]
    },
    {
      "cell_type": "code",
      "metadata": {
        "colab": {
          "base_uri": "https://localhost:8080/"
        },
        "id": "a7ba52af",
        "outputId": "0e47f4d1-2d35-4412-b25c-3e7f7afa976e"
      },
      "source": [
        "!git clone https://github.com/Srinivasan7831/naan_mudhalvan.git\n",
        "!ls"
      ],
      "execution_count": null,
      "outputs": [
        {
          "output_type": "stream",
          "name": "stdout",
          "text": [
            "Cloning into 'naan_mudhalvan'...\n",
            "warning: You appear to have cloned an empty repository.\n",
            "colors.csv  naan_mudhalvan  pink-flower-white-background.jpg  sample_data\n"
          ]
        }
      ]
    },
    {
      "cell_type": "markdown",
      "metadata": {
        "id": "709456d8"
      },
      "source": [
        "## Copy code to repository\n",
        "\n",
        "### Subtask:\n",
        "Copy your Streamlit application code (`app.py`) and the `colors.csv` file into the cloned repository directory.\n"
      ]
    },
    {
      "cell_type": "markdown",
      "metadata": {
        "id": "b10fe83c"
      },
      "source": [
        "**Reasoning**:\n",
        "Copy the app.py code and colors.csv file into the cloned repository directory.\n",
        "\n"
      ]
    },
    {
      "cell_type": "code",
      "metadata": {
        "colab": {
          "base_uri": "https://localhost:8080/",
          "height": 106
        },
        "id": "64245308",
        "outputId": "6ebceffb-f39e-494c-d6bd-619b5b8a0d74"
      },
      "source": [
        "# Create the app.py file in the cloned repository directory\n",
        "app_py_content = \"\"\"\n",
        "# app.py\n",
        "import streamlit as st\n",
        "from PIL import Image\n",
        "import pandas as pd\n",
        "import numpy as np\n",
        "import os\n",
        "\n",
        "# Component to get click coordinates from image\n",
        "from streamlit_image_coordinates import streamlit_image_coordinates\n",
        "\n",
        "st.set_page_config(page_title=\"Color Detection App\", layout=\"centered\")\n",
        "\n",
        "st.title(\"🎨 Color Detection App\")\n",
        "st.write(\"Upload an image, click anywhere to detect the pixel’s color from your dataset.\")\n",
        "\n",
        "# ============ Load your dataset ============\n",
        "\n",
        "def load_colors_csv(path=\"./colors.csv\"): # Changed path to relative path\n",
        "    \\\"\\\"\\\"Load your custom color dataset.\\\"\\\"\\\"\n",
        "    if os.path.exists(path):\n",
        "        try:\n",
        "            # Attempt to read as comma-separated with no header\n",
        "            df = pd.read_csv(path, header=None)\n",
        "            # Assuming the columns are in the order: color_name, hex, R, G, B\n",
        "            if df.shape[1] >= 5:\n",
        "                df.columns = ['color_name', 'hex', 'R', 'G', 'B'] + list(range(5, df.shape[1]))\n",
        "                # Ensure R, G, B columns are numeric\n",
        "                df['R'] = pd.to_numeric(df['R'], errors='coerce')\n",
        "                df['G'] = pd.to_numeric(df['G'], errors='coerce')\n",
        "                df['B'] = pd.to_numeric(df['B'], errors='coerce')\n",
        "                # Drop rows where R, G, or B could not be converted to numeric\n",
        "                df.dropna(subset=['R', 'G', 'B'], inplace=True)\n",
        "                st.success(f\"Successfully loaded colors data from {path}\")\n",
        "                return df[['color_name','R','G','B']]\n",
        "            else:\n",
        "                st.error(f\"The file {path} does not have the expected number of columns.\")\n",
        "        except Exception as e:\n",
        "            st.error(f\"Error reading colors.csv from {path}: {e}\")\n",
        "    else:\n",
        "        st.error(f\"Color dataset not found at {path}. Please make sure 'colors.csv' is uploaded.\")\n",
        "    return None\n",
        "\n",
        "\n",
        "colors_df = load_colors_csv(\"./colors.csv\") # Use relative path\n",
        "\n",
        "if colors_df is None:\n",
        "    st.stop()\n",
        "\n",
        "color_names = colors_df['color_name'].tolist()\n",
        "colors_arr = colors_df[['R','G','B']].values.astype(int)\n",
        "\n",
        "# Function to find closest color from dataset\n",
        "def closest_color_name(rgb_tuple):\n",
        "    r,g,b = rgb_tuple\n",
        "    diffs = colors_arr - np.array([r,g,b])\n",
        "    dists = np.sum(diffs.astype(int)**2, axis=1)\n",
        "    idx = int(np.argmin(dists))\n",
        "    return color_names[idx]\n",
        "\n",
        "# ============ Upload image ============\n",
        "\n",
        "uploaded = st.file_uploader(\"Upload an image\", type=[\"png\",\"jpg\",\"jpeg\"]) # Removed default path from file_uploader\n",
        "\n",
        "if uploaded is not None:\n",
        "    img = Image.open(uploaded).convert(\"RGB\")\n",
        "\n",
        "    st.write(\"Click anywhere on the image below to detect the color:\")\n",
        "\n",
        "    coords = streamlit_image_coordinates(img, key=\"click\")\n",
        "    if coords is not None:\n",
        "        x = int(coords[\"x\"])\n",
        "        y = int(coords[\"y\"])\n",
        "        w,h = img.size\n",
        "        if 0 <= x < w and 0 <= y < h:\n",
        "            r,g,b = img.getpixel((x,y))\n",
        "            name = closest_color_name((r,g,b))\n",
        "            hexcol = '#%02x%02x%02x' % (r,g,b)\n",
        "\n",
        "            st.markdown(f\"### 🎯 Clicked at (x={x}, y={y})\")\n",
        "            st.write(f\"**RGB:** ({r}, {g}, {b})\")\n",
        "            st.write(f\"**Closest Color Name:** {name}\")\n",
        "            st.write(f\"**Hex:** {hexcol}\")\n",
        "\n",
        "            st.markdown(\n",
        "                f\"\"\"\n",
        "                <div style=\"width:150px;height:80px;border-radius:6px;border:1px solid #444;background:{hexcol};\"></div>\n",
        "                \"\"\",\n",
        "                unsafe_allow_html=True\n",
        "            )\n",
        "        else:\n",
        "            st.warning(\"Click inside the image area.\")\n",
        "else:\n",
        "    st.info(\"Upload an image to begin.\")\n",
        "\"\"\"\n",
        "with open(\"naan_mudhalvan/app.py\", \"w\") as f:\n",
        "    f.write(app_py_content)\n",
        "\n",
        "# Copy colors.csv to the cloned repository directory\n",
        "!cp /content/colors.csv naan_mudhalvan/colors.csv\n",
        "\n",
        "# Verify the files are in the directory\n",
        "!ls naan_mudhalvan"
      ],
      "execution_count": null,
      "outputs": [
        {
          "output_type": "error",
          "ename": "IndentationError",
          "evalue": "unexpected indent (ipython-input-1402475883.py, line 88)",
          "traceback": [
            "\u001b[0;36m  File \u001b[0;32m\"/tmp/ipython-input-1402475883.py\"\u001b[0;36m, line \u001b[0;32m88\u001b[0m\n\u001b[0;31m    <div style=\"width:150px;height:80px;border-radius:6px;border:1px solid #444;background:{hexcol};\"></div>\u001b[0m\n\u001b[0m    ^\u001b[0m\n\u001b[0;31mIndentationError\u001b[0m\u001b[0;31m:\u001b[0m unexpected indent\n"
          ]
        }
      ]
    },
    {
      "cell_type": "markdown",
      "metadata": {
        "id": "a3a86b66"
      },
      "source": [
        "**Reasoning**:\n",
        "Fix the `IndentationError` in the `app_py_content` string literal and re-execute the code to create `app.py` and copy `colors.csv`.\n",
        "\n"
      ]
    },
    {
      "cell_type": "code",
      "metadata": {
        "colab": {
          "base_uri": "https://localhost:8080/",
          "height": 106
        },
        "id": "L3F_r4W59s45",
        "outputId": "bf1fad08-2cf4-40f7-92d4-5f67aa261ab9"
      },
      "source": [
        "# Create the app.py file in the cloned repository directory\n",
        "app_py_content = \"\"\"\n",
        "# app.py\n",
        "import streamlit as st\n",
        "from PIL import Image\n",
        "import pandas as pd\n",
        "import numpy as np\n",
        "import os\n",
        "\n",
        "# Component to get click coordinates from image\n",
        "from streamlit_image_coordinates import streamlit_image_coordinates\n",
        "\n",
        "st.set_page_config(page_title=\"Color Detection App\", layout=\"centered\")\n",
        "\n",
        "st.title(\"🎨 Color Detection App\")\n",
        "st.write(\"Upload an image, click anywhere to detect the pixel’s color from your dataset.\")\n",
        "\n",
        "# ============ Load your dataset ============\n",
        "\n",
        "def load_colors_csv(path=\"./colors.csv\"): # Changed path to relative path\n",
        "    \\\"\\\"\\\"Load your custom color dataset.\\\"\\\"\\\"\n",
        "    if os.path.exists(path):\n",
        "        try:\n",
        "            # Attempt to read as comma-separated with no header\n",
        "            df = pd.read_csv(path, header=None)\n",
        "            # Assuming the columns are in the order: color_name, hex, R, G, B\n",
        "            if df.shape[1] >= 5:\n",
        "                df.columns = ['color_name', 'hex', 'R', 'G', 'B'] + list(range(5, df.shape[1]))\n",
        "                # Ensure R, G, B columns are numeric\n",
        "                df['R'] = pd.to_numeric(df['R'], errors='coerce')\n",
        "                df['G'] = pd.to_numeric(df['G'], errors='coerce')\n",
        "                df['B'] = pd.to_numeric(df['B'], errors='coerce')\n",
        "                # Drop rows where R, G, or B could not be converted to numeric\n",
        "                df.dropna(subset=['R', 'G', 'B'], inplace=True)\n",
        "                st.success(f\"Successfully loaded colors data from {path}\")\n",
        "                return df[['color_name','R','G','B']]\n",
        "            else:\n",
        "                st.error(f\"The file {path} does not have the expected number of columns.\")\n",
        "        except Exception as e:\n",
        "            st.error(f\"Error reading colors.csv from {path}: {e}\")\n",
        "    else:\n",
        "        st.error(f\"Color dataset not found at {path}. Please make sure 'colors.csv' is uploaded.\")\n",
        "    return None\n",
        "\n",
        "\n",
        "colors_df = load_colors_csv(\"./colors.csv\") # Use relative path\n",
        "\n",
        "if colors_df is None:\n",
        "    st.stop()\n",
        "\n",
        "color_names = colors_df['color_name'].tolist()\n",
        "colors_arr = colors_df[['R','G','B']].values.astype(int)\n",
        "\n",
        "# Function to find closest color from dataset\n",
        "def closest_color_name(rgb_tuple):\n",
        "    r,g,b = rgb_tuple\n",
        "    diffs = colors_arr - np.array([r,g,b])\n",
        "    dists = np.sum(diffs.astype(int)**2, axis=1)\n",
        "    idx = int(np.argmin(dists))\n",
        "    return color_names[idx]\n",
        "\n",
        "# ============ Upload image ============\n",
        "\n",
        "uploaded = st.file_uploader(\"Upload an image\", type=[\"png\",\"jpg\",\"jpeg\"]) # Removed default path from file_uploader\n",
        "\n",
        "if uploaded is not None:\n",
        "    img = Image.open(uploaded).convert(\"RGB\")\n",
        "\n",
        "    st.write(\"Click anywhere on the image below to detect the color:\")\n",
        "\n",
        "    coords = streamlit_image_coordinates(img, key=\"click\")\n",
        "    if coords is not None:\n",
        "        x = int(coords[\"x\"])\n",
        "        y = int(coords[\"y\"])\n",
        "        w,h = img.size\n",
        "        if 0 <= x < w and 0 <= y < h:\n",
        "            r,g,b = img.getpixel((x,y))\n",
        "            name = closest_color_name((r,g,b))\n",
        "            hexcol = '#%02x%02x%02x' % (r,g,b)\n",
        "\n",
        "            st.markdown(f\"### 🎯 Clicked at (x={x}, y={y})\")\n",
        "            st.write(f\"**RGB:** ({r}, {g}, {b})\")\n",
        "            st.write(f\"**Closest Color Name:** {name}\")\n",
        "            st.write(f\"**Hex:** {hexcol}\")\n",
        "\n",
        "            st.markdown(\n",
        "                f\"\"\"\n",
        "<div style=\"width:150px;height:80px;border-radius:6px;border:1px solid #444;background:{hexcol};\"></div>\n",
        "                \"\"\",\n",
        "                unsafe_allow_html=True\n",
        "            )\n",
        "        else:\n",
        "            st.warning(\"Click inside the image area.\")\n",
        "else:\n",
        "    st.info(\"Upload an image to begin.\")\n",
        "\"\"\"\n",
        "with open(\"naan_mudhalvan/app.py\", \"w\") as f:\n",
        "    f.write(app_py_content)\n",
        "\n",
        "# Copy colors.csv to the cloned repository directory\n",
        "!cp /content/colors.csv naan_mudhalvan/colors.csv\n",
        "\n",
        "# Verify the files are in the directory\n",
        "!ls naan_mudhalvan"
      ],
      "execution_count": null,
      "outputs": [
        {
          "output_type": "error",
          "ename": "SyntaxError",
          "evalue": "invalid syntax (ipython-input-3707744381.py, line 88)",
          "traceback": [
            "\u001b[0;36m  File \u001b[0;32m\"/tmp/ipython-input-3707744381.py\"\u001b[0;36m, line \u001b[0;32m88\u001b[0m\n\u001b[0;31m    <div style=\"width:150px;height:80px;border-radius:6px;border:1px solid #444;background:{hexcol};\"></div>\u001b[0m\n\u001b[0m    ^\u001b[0m\n\u001b[0;31mSyntaxError\u001b[0m\u001b[0;31m:\u001b[0m invalid syntax\n"
          ]
        }
      ]
    },
    {
      "cell_type": "markdown",
      "metadata": {
        "id": "d9c25e39"
      },
      "source": [
        "**Reasoning**:\n",
        "Fix the `SyntaxError` in the `app_py_content` string literal by escaping the curly braces within the f-string used in `st.markdown`.\n",
        "\n"
      ]
    },
    {
      "cell_type": "code",
      "metadata": {
        "colab": {
          "base_uri": "https://localhost:8080/",
          "height": 106
        },
        "id": "Y2YfgCNX95Bb",
        "outputId": "a3e4aca7-efa4-4c7c-cef0-0e323cb03567"
      },
      "source": [
        "# Create the app.py file in the cloned repository directory\n",
        "app_py_content = \"\"\"\n",
        "# app.py\n",
        "import streamlit as st\n",
        "from PIL import Image\n",
        "import pandas as pd\n",
        "import numpy as np\n",
        "import os\n",
        "\n",
        "# Component to get click coordinates from image\n",
        "from streamlit_image_coordinates import streamlit_image_coordinates\n",
        "\n",
        "st.set_page_config(page_title=\"Color Detection App\", layout=\"centered\")\n",
        "\n",
        "st.title(\"🎨 Color Detection App\")\n",
        "st.write(\"Upload an image, click anywhere to detect the pixel’s color from your dataset.\")\n",
        "\n",
        "# ============ Load your dataset ============\n",
        "\n",
        "def load_colors_csv(path=\"./colors.csv\"): # Changed path to relative path\n",
        "    \\\"\\\"\\\"Load your custom color dataset.\\\"\\\"\\\"\n",
        "    if os.path.exists(path):\n",
        "        try:\n",
        "            # Attempt to read as comma-separated with no header\n",
        "            df = pd.read_csv(path, header=None)\n",
        "            # Assuming the columns are in the order: color_name, hex, R, G, B\n",
        "            if df.shape[1] >= 5:\n",
        "                df.columns = ['color_name', 'hex', 'R', 'G', 'B'] + list(range(5, df.shape[1]))\n",
        "                # Ensure R, G, B columns are numeric\n",
        "                df['R'] = pd.to_numeric(df['R'], errors='coerce')\n",
        "                df['G'] = pd.to_numeric(df['G'], errors='coerce')\n",
        "                df['B'] = pd.to_numeric(df['B'], errors='coerce')\n",
        "                # Drop rows where R, G, or B could not be converted to numeric\n",
        "                df.dropna(subset=['R', 'G', 'B'], inplace=True)\n",
        "                st.success(f\"Successfully loaded colors data from {path}\")\n",
        "                return df[['color_name','R','G','B']]\n",
        "            else:\n",
        "                st.error(f\"The file {path} does not have the expected number of columns.\")\n",
        "        except Exception as e:\n",
        "            st.error(f\"Error reading colors.csv from {path}: {e}\")\n",
        "    else:\n",
        "        st.error(f\"Color dataset not found at {path}. Please make sure 'colors.csv' is uploaded.\")\n",
        "    return None\n",
        "\n",
        "\n",
        "colors_df = load_colors_csv(\"./colors.csv\") # Use relative path\n",
        "\n",
        "if colors_df is None:\n",
        "    st.stop()\n",
        "\n",
        "color_names = colors_df['color_name'].tolist()\n",
        "colors_arr = colors_df[['R','G','B']].values.astype(int)\n",
        "\n",
        "# Function to find closest color from dataset\n",
        "def closest_color_name(rgb_tuple):\n",
        "    r,g,b = rgb_tuple\n",
        "    diffs = colors_arr - np.array([r,g,b])\n",
        "    dists = np.sum(diffs.astype(int)**2, axis=1)\n",
        "    idx = int(np.argmin(dists))\n",
        "    return color_names[idx]\n",
        "\n",
        "# ============ Upload image ============\n",
        "\n",
        "uploaded = st.file_uploader(\"Upload an image\", type=[\"png\",\"jpg\",\"jpeg\"]) # Removed default path from file_uploader\n",
        "\n",
        "if uploaded is not None:\n",
        "    img = Image.open(uploaded).convert(\"RGB\")\n",
        "\n",
        "    st.write(\"Click anywhere on the image below to detect the color:\")\n",
        "\n",
        "    coords = streamlit_image_coordinates(img, key=\"click\")\n",
        "    if coords is not None:\n",
        "        x = int(coords[\"x\"])\n",
        "        y = int(coords[\"y\"])\n",
        "        w,h = img.size\n",
        "        if 0 <= x < w and 0 <= y < h:\n",
        "            r,g,b = img.getpixel((x,y))\n",
        "            name = closest_color_name((r,g,b))\n",
        "            hexcol = '#%02x%02x%02x' % (r,g,b)\n",
        "\n",
        "            st.markdown(f\"### 🎯 Clicked at (x={x}, y={y})\")\n",
        "            st.write(f\"**RGB:** ({r}, {g}, {b})\")\n",
        "            st.write(f\"**Closest Color Name:** {name}\")\n",
        "            st.write(f\"**Hex:** {hexcol}\")\n",
        "\n",
        "            st.markdown(\n",
        "                f\"\"\"\n",
        "<div style=\"width:150px;height:80px;border-radius:6px;border:1px solid #444;background:{{hexcol}};\"></div>\n",
        "                \"\"\",\n",
        "                unsafe_allow_html=True\n",
        "            )\n",
        "        else:\n",
        "            st.warning(\"Click inside the image area.\")\n",
        "else:\n",
        "    st.info(\"Upload an image to begin.\")\n",
        "\"\"\"\n",
        "with open(\"naan_mudhalvan/app.py\", \"w\") as f:\n",
        "    f.write(app_py_content)\n",
        "\n",
        "# Copy colors.csv to the cloned repository directory\n",
        "!cp /content/colors.csv naan_mudhalvan/colors.csv\n",
        "\n",
        "# Verify the files are in the directory\n",
        "!ls naan_mudhalvan"
      ],
      "execution_count": null,
      "outputs": [
        {
          "output_type": "error",
          "ename": "SyntaxError",
          "evalue": "invalid syntax (ipython-input-2151620153.py, line 88)",
          "traceback": [
            "\u001b[0;36m  File \u001b[0;32m\"/tmp/ipython-input-2151620153.py\"\u001b[0;36m, line \u001b[0;32m88\u001b[0m\n\u001b[0;31m    <div style=\"width:150px;height:80px;border-radius:6px;border:1px solid #444;background:{{hexcol}};\"></div>\u001b[0m\n\u001b[0m    ^\u001b[0m\n\u001b[0;31mSyntaxError\u001b[0m\u001b[0;31m:\u001b[0m invalid syntax\n"
          ]
        }
      ]
    },
    {
      "cell_type": "markdown",
      "metadata": {
        "id": "31ca052b"
      },
      "source": [
        "**Reasoning**:\n",
        "The `SyntaxError` persists. It seems like the f-string within the multiline string is still causing issues. I will remove the f-string and use simple string formatting or concatenation instead for the HTML part.\n",
        "\n"
      ]
    },
    {
      "cell_type": "code",
      "metadata": {
        "colab": {
          "base_uri": "https://localhost:8080/",
          "height": 106
        },
        "id": "dVrjb-p598rx",
        "outputId": "dfe3ca69-8075-4b73-b6e5-39ee7188562c"
      },
      "source": [
        "# Create the app.py file in the cloned repository directory\n",
        "app_py_content = \"\"\"\n",
        "# app.py\n",
        "import streamlit as st\n",
        "from PIL import Image\n",
        "import pandas as pd\n",
        "import numpy as np\n",
        "import os\n",
        "\n",
        "# Component to get click coordinates from image\n",
        "from streamlit_image_coordinates import streamlit_image_coordinates\n",
        "\n",
        "st.set_page_config(page_title=\"Color Detection App\", layout=\"centered\")\n",
        "\n",
        "st.title(\"🎨 Color Detection App\")\n",
        "st.write(\"Upload an image, click anywhere to detect the pixel’s color from your dataset.\")\n",
        "\n",
        "# ============ Load your dataset ============\n",
        "\n",
        "def load_colors_csv(path=\"./colors.csv\"): # Changed path to relative path\n",
        "    \\\"\\\"\\\"Load your custom color dataset.\\\"\\\"\\\"\n",
        "    if os.path.exists(path):\n",
        "        try:\n",
        "            # Attempt to read as comma-separated with no header\n",
        "            df = pd.read_csv(path, header=None)\n",
        "            # Assuming the columns are in the order: color_name, hex, R, G, B\n",
        "            if df.shape[1] >= 5:\n",
        "                df.columns = ['color_name', 'hex', 'R', 'G', 'B'] + list(range(5, df.shape[1]))\n",
        "                # Ensure R, G, B columns are numeric\n",
        "                df['R'] = pd.to_numeric(df['R'], errors='coerce')\n",
        "                df['G'] = pd.to_numeric(df['G'], errors='coerce')\n",
        "                df['B'] = pd.to_numeric(df['B'], errors='coerce')\n",
        "                # Drop rows where R, G, or B could not be converted to numeric\n",
        "                df.dropna(subset=['R', 'G', 'B'], inplace=True)\n",
        "                st.success(f\"Successfully loaded colors data from {path}\")\n",
        "                return df[['color_name','R','G','B']]\n",
        "            else:\n",
        "                st.error(f\"The file {path} does not have the expected number of columns.\")\n",
        "        except Exception as e:\n",
        "            st.error(f\"Error reading colors.csv from {path}: {e}\")\n",
        "    else:\n",
        "        st.error(f\"Color dataset not found at {path}. Please make sure 'colors.csv' is uploaded.\")\n",
        "    return None\n",
        "\n",
        "\n",
        "colors_df = load_colors_csv(\"./colors.csv\") # Use relative path\n",
        "\n",
        "if colors_df is None:\n",
        "    st.stop()\n",
        "\n",
        "color_names = colors_df['color_name'].tolist()\n",
        "colors_arr = colors_df[['R','G','B']].values.astype(int)\n",
        "\n",
        "# Function to find closest color from dataset\n",
        "def closest_color_name(rgb_tuple):\n",
        "    r,g,b = rgb_tuple\n",
        "    diffs = colors_arr - np.array([r,g,b])\n",
        "    dists = np.sum(diffs.astype(int)**2, axis=1)\n",
        "    idx = int(np.argmin(dists))\n",
        "    return color_names[idx]\n",
        "\n",
        "# ============ Upload image ============\n",
        "\n",
        "uploaded = st.file_uploader(\"Upload an image\", type=[\"png\",\"jpg\",\"jpeg\"]) # Removed default path from file_uploader\n",
        "\n",
        "if uploaded is not None:\n",
        "    img = Image.open(uploaded).convert(\"RGB\")\n",
        "\n",
        "    st.write(\"Click anywhere on the image below to detect the color:\")\n",
        "\n",
        "    coords = streamlit_image_coordinates(img, key=\"click\")\n",
        "    if coords is not None:\n",
        "        x = int(coords[\"x\"])\n",
        "        y = int(coords[\"y\"])\n",
        "        w,h = img.size\n",
        "        if 0 <= x < w and 0 <= y < h:\n",
        "            r,g,b = img.getpixel((x,y))\n",
        "            name = closest_color_name((r,g,b))\n",
        "            hexcol = '#%02x%02x%02x' % (r,g,b)\n",
        "\n",
        "            st.markdown(f\"### 🎯 Clicked at (x={x}, y={y})\")\n",
        "            st.write(f\"**RGB:** ({r}, {g}, {b})\")\n",
        "            st.write(f\"**Closest Color Name:** {name}\")\n",
        "            st.write(f\"**Hex:** {hexcol}\")\n",
        "\n",
        "            st.markdown(\n",
        "                \"\"\"\n",
        "<div style=\"width:150px;height:80px;border-radius:6px;border:1px solid #444;background:{}\"></div>\n",
        "                \"\"\".format(hexcol),\n",
        "                unsafe_allow_html=True\n",
        "            )\n",
        "        else:\n",
        "            st.warning(\"Click inside the image area.\")\n",
        "else:\n",
        "    st.info(\"Upload an image to begin.\")\n",
        "\"\"\"\n",
        "with open(\"naan_mudhalvan/app.py\", \"w\") as f:\n",
        "    f.write(app_py_content)\n",
        "\n",
        "# Copy colors.csv to the cloned repository directory\n",
        "!cp /content/colors.csv naan_mudhalvan/colors.csv\n",
        "\n",
        "# Verify the files are in the directory\n",
        "!ls naan_mudhalvan"
      ],
      "execution_count": null,
      "outputs": [
        {
          "output_type": "error",
          "ename": "SyntaxError",
          "evalue": "invalid syntax (ipython-input-4140209295.py, line 88)",
          "traceback": [
            "\u001b[0;36m  File \u001b[0;32m\"/tmp/ipython-input-4140209295.py\"\u001b[0;36m, line \u001b[0;32m88\u001b[0m\n\u001b[0;31m    <div style=\"width:150px;height:80px;border-radius:6px;border:1px solid #444;background:{}\"></div>\u001b[0m\n\u001b[0m    ^\u001b[0m\n\u001b[0;31mSyntaxError\u001b[0m\u001b[0;31m:\u001b[0m invalid syntax\n"
          ]
        }
      ]
    },
    {
      "cell_type": "markdown",
      "metadata": {
        "id": "85830de9"
      },
      "source": [
        "**Reasoning**:\n",
        "The `SyntaxError` still persists. It seems the issue is with the triple-quoted string itself when it contains curly braces intended for formatting. I will try a different approach by building the HTML string using simple concatenation or a single-quoted string with formatting.\n",
        "\n"
      ]
    },
    {
      "cell_type": "code",
      "metadata": {
        "colab": {
          "base_uri": "https://localhost:8080/"
        },
        "id": "vUqZjXsN9_nW",
        "outputId": "e31981e6-2849-4acf-b5ac-f4baab2b2d0a"
      },
      "source": [
        "# Create the app.py file in the cloned repository directory\n",
        "app_py_content = \"\"\"\n",
        "# app.py\n",
        "import streamlit as st\n",
        "from PIL import Image\n",
        "import pandas as pd\n",
        "import numpy as np\n",
        "import os\n",
        "\n",
        "# Component to get click coordinates from image\n",
        "from streamlit_image_coordinates import streamlit_image_coordinates\n",
        "\n",
        "st.set_page_config(page_title=\"Color Detection App\", layout=\"centered\")\n",
        "\n",
        "st.title(\"🎨 Color Detection App\")\n",
        "st.write(\"Upload an image, click anywhere to detect the pixel’s color from your dataset.\")\n",
        "\n",
        "# ============ Load your dataset ============\n",
        "\n",
        "def load_colors_csv(path=\"./colors.csv\"): # Changed path to relative path\n",
        "    \\\"\\\"\\\"Load your custom color dataset.\\\"\\\"\\\"\n",
        "    if os.path.exists(path):\n",
        "        try:\n",
        "            # Attempt to read as comma-separated with no header\n",
        "            df = pd.read_csv(path, header=None)\n",
        "            # Assuming the columns are in the order: color_name, hex, R, G, B\n",
        "            if df.shape[1] >= 5:\n",
        "                df.columns = ['color_name', 'hex', 'R', 'G', 'B'] + list(range(5, df.shape[1]))\n",
        "                # Ensure R, G, B columns are numeric\n",
        "                df['R'] = pd.to_numeric(df['R'], errors='coerce')\n",
        "                df['G'] = pd.to_numeric(df['G'], errors='coerce')\n",
        "                df['B'] = pd.to_numeric(df['B'], errors='coerce')\n",
        "                # Drop rows where R, G, or B could not be converted to numeric\n",
        "                df.dropna(subset=['R', 'G', 'B'], inplace=True)\n",
        "                st.success(f\"Successfully loaded colors data from {path}\")\n",
        "                return df[['color_name','R','G','B']]\n",
        "            else:\n",
        "                st.error(f\"The file {path} does not have the expected number of columns.\")\n",
        "        except Exception as e:\n",
        "            st.error(f\"Error reading colors.csv from {path}: {e}\")\n",
        "    else:\n",
        "        st.error(f\"Color dataset not found at {path}. Please make sure 'colors.csv' is uploaded.\")\n",
        "    return None\n",
        "\n",
        "\n",
        "colors_df = load_colors_csv(\"./colors.csv\") # Use relative path\n",
        "\n",
        "if colors_df is None:\n",
        "    st.stop()\n",
        "\n",
        "color_names = colors_df['color_name'].tolist()\n",
        "colors_arr = colors_df[['R','G','B']].values.astype(int)\n",
        "\n",
        "# Function to find closest color from dataset\n",
        "def closest_color_name(rgb_tuple):\n",
        "    r,g,b = rgb_tuple\n",
        "    diffs = colors_arr - np.array([r,g,b])\n",
        "    dists = np.sum(diffs.astype(int)**2, axis=1)\n",
        "    idx = int(np.argmin(dists))\n",
        "    return color_names[idx]\n",
        "\n",
        "# ============ Upload image ============\n",
        "\n",
        "uploaded = st.file_uploader(\"Upload an image\", type=[\"png\",\"jpg\",\"jpeg\"]) # Removed default path from file_uploader\n",
        "\n",
        "if uploaded is not None:\n",
        "    img = Image.open(uploaded).convert(\"RGB\")\n",
        "\n",
        "    st.write(\"Click anywhere on the image below to detect the color:\")\n",
        "\n",
        "    coords = streamlit_image_coordinates(img, key=\"click\")\n",
        "    if coords is not None:\n",
        "        x = int(coords[\"x\"])\n",
        "        y = int(coords[\"y\"])\n",
        "        w,h = img.size\n",
        "        if 0 <= x < w and 0 <= y < h:\n",
        "            r,g,b = img.getpixel((x,y))\n",
        "            name = closest_color_name((r,g,b))\n",
        "            hexcol = '#%02x%02x%02x' % (r,g,b)\n",
        "\n",
        "            st.markdown(f\"### 🎯 Clicked at (x={x}, y={y})\")\n",
        "            st.write(f\"**RGB:** ({r}, {g}, {b})\")\n",
        "            st.write(f\"**Closest Color Name:** {name}\")\n",
        "            st.write(f\"**Hex:** {hexcol}\")\n",
        "\n",
        "            html_color_box = f'<div style=\"width:150px;height:80px;border-radius:6px;border:1px solid #444;background:{hexcol};\"></div>'\n",
        "            st.markdown(html_color_box, unsafe_allow_html=True)\n",
        "        else:\n",
        "            st.warning(\"Click inside the image area.\")\n",
        "else:\n",
        "    st.info(\"Upload an image to begin.\")\n",
        "\"\"\"\n",
        "with open(\"naan_mudhalvan/app.py\", \"w\") as f:\n",
        "    f.write(app_py_content)\n",
        "\n",
        "# Copy colors.csv to the cloned repository directory\n",
        "!cp /content/colors.csv naan_mudhalvan/colors.csv\n",
        "\n",
        "# Verify the files are in the directory\n",
        "!ls naan_mudhalvan"
      ],
      "execution_count": null,
      "outputs": [
        {
          "output_type": "stream",
          "name": "stdout",
          "text": [
            "app.py\tcolors.csv\n"
          ]
        }
      ]
    },
    {
      "cell_type": "markdown",
      "metadata": {
        "id": "2616545a"
      },
      "source": [
        "## Add changes\n",
        "\n",
        "### Subtask:\n",
        "Add the copied files to the Git staging area.\n"
      ]
    },
    {
      "cell_type": "markdown",
      "metadata": {
        "id": "6ed9ba92"
      },
      "source": [
        "**Reasoning**:\n",
        "Change the current directory to the cloned repository directory and add all files to the Git staging area.\n",
        "\n"
      ]
    },
    {
      "cell_type": "code",
      "metadata": {
        "colab": {
          "base_uri": "https://localhost:8080/"
        },
        "id": "17df0c03",
        "outputId": "ac3effb1-0ae0-4db3-d54a-730dd60fd540"
      },
      "source": [
        "import os\n",
        "\n",
        "# Change to the repository directory\n",
        "os.chdir('naan_mudhalvan')\n",
        "\n",
        "# Add all changes to the staging area\n",
        "!git add .\n",
        "!git status"
      ],
      "execution_count": null,
      "outputs": [
        {
          "output_type": "stream",
          "name": "stdout",
          "text": [
            "On branch main\n",
            "\n",
            "No commits yet\n",
            "\n",
            "Changes to be committed:\n",
            "  (use \"git rm --cached <file>...\" to unstage)\n",
            "\t\u001b[32mnew file:   app.py\u001b[m\n",
            "\t\u001b[32mnew file:   colors.csv\u001b[m\n",
            "\n"
          ]
        }
      ]
    },
    {
      "cell_type": "markdown",
      "metadata": {
        "id": "3c7e9d50"
      },
      "source": [
        "## Commit changes\n",
        "\n",
        "### Subtask:\n",
        "Commit the changes with a descriptive message.\n"
      ]
    },
    {
      "cell_type": "markdown",
      "metadata": {
        "id": "f78ca3e2"
      },
      "source": [
        "**Reasoning**:\n",
        "Commit the staged changes with a descriptive message.\n",
        "\n"
      ]
    },
    {
      "cell_type": "code",
      "metadata": {
        "colab": {
          "base_uri": "https://localhost:8080/"
        },
        "id": "6d182097",
        "outputId": "5ceda99a-580d-4f8e-816c-5f0094bf28f2"
      },
      "source": [
        "!git commit -m \"Add Streamlit app code and colors dataset\""
      ],
      "execution_count": null,
      "outputs": [
        {
          "output_type": "stream",
          "name": "stdout",
          "text": [
            "[main (root-commit) 02b43eb] Add Streamlit app code and colors dataset\n",
            " 2 files changed, 955 insertions(+)\n",
            " create mode 100644 app.py\n",
            " create mode 100644 colors.csv\n"
          ]
        }
      ]
    },
    {
      "cell_type": "markdown",
      "metadata": {
        "id": "33d88542"
      },
      "source": [
        "## Push changes\n",
        "\n",
        "### Subtask:\n",
        "Push the committed changes to the remote GitHub repository.\n"
      ]
    },
    {
      "cell_type": "markdown",
      "metadata": {
        "id": "90f6857a"
      },
      "source": [
        "**Reasoning**:\n",
        "Push the committed changes to the remote GitHub repository using the `git push` command.\n",
        "\n"
      ]
    },
    {
      "cell_type": "code",
      "metadata": {
        "colab": {
          "base_uri": "https://localhost:8080/"
        },
        "id": "b658dd90",
        "outputId": "1852bc27-32b3-406a-edcf-607570de3528"
      },
      "source": [
        "!git push origin main"
      ],
      "execution_count": null,
      "outputs": [
        {
          "output_type": "stream",
          "name": "stdout",
          "text": [
            "fatal: could not read Username for 'https://github.com': No such device or address\n"
          ]
        }
      ]
    },
    {
      "cell_type": "markdown",
      "metadata": {
        "id": "f63bc1f1"
      },
      "source": [
        "**Reasoning**:\n",
        "The push failed because authentication is required. Since this is a non-interactive environment, using a personal access token is the appropriate method for authentication. I will attempt to push again using the token.\n",
        "\n"
      ]
    },
    {
      "cell_type": "code",
      "metadata": {
        "colab": {
          "base_uri": "https://localhost:8080/",
          "height": 332
        },
        "id": "5f3fb60d",
        "outputId": "a125e049-2b3b-4911-8bef-785f0854d45d"
      },
      "source": [
        "import os\n",
        "from google.colab import userdata\n",
        "\n",
        "# Retrieve the GitHub token from Colab secrets\n",
        "github_token = userdata.get('github_token')\n",
        "\n",
        "if github_token:\n",
        "    # Use the token in the git push command\n",
        "    !git push https://{github_token}@github.com/Srinivasan7831/naan_mudhalvan.git main\n",
        "else:\n",
        "    print(\"GitHub token not found in Colab secrets. Please add it as 'github_token'.\")\n"
      ],
      "execution_count": null,
      "outputs": [
        {
          "output_type": "error",
          "ename": "SecretNotFoundError",
          "evalue": "Secret github_token does not exist.",
          "traceback": [
            "\u001b[0;31m---------------------------------------------------------------------------\u001b[0m",
            "\u001b[0;31mSecretNotFoundError\u001b[0m                       Traceback (most recent call last)",
            "\u001b[0;32m/tmp/ipython-input-1285805088.py\u001b[0m in \u001b[0;36m<cell line: 0>\u001b[0;34m()\u001b[0m\n\u001b[1;32m      3\u001b[0m \u001b[0;34m\u001b[0m\u001b[0m\n\u001b[1;32m      4\u001b[0m \u001b[0;31m# Retrieve the GitHub token from Colab secrets\u001b[0m\u001b[0;34m\u001b[0m\u001b[0;34m\u001b[0m\u001b[0m\n\u001b[0;32m----> 5\u001b[0;31m \u001b[0mgithub_token\u001b[0m \u001b[0;34m=\u001b[0m \u001b[0muserdata\u001b[0m\u001b[0;34m.\u001b[0m\u001b[0mget\u001b[0m\u001b[0;34m(\u001b[0m\u001b[0;34m'github_token'\u001b[0m\u001b[0;34m)\u001b[0m\u001b[0;34m\u001b[0m\u001b[0;34m\u001b[0m\u001b[0m\n\u001b[0m\u001b[1;32m      6\u001b[0m \u001b[0;34m\u001b[0m\u001b[0m\n\u001b[1;32m      7\u001b[0m \u001b[0;32mif\u001b[0m \u001b[0mgithub_token\u001b[0m\u001b[0;34m:\u001b[0m\u001b[0;34m\u001b[0m\u001b[0;34m\u001b[0m\u001b[0m\n",
            "\u001b[0;32m/usr/local/lib/python3.12/dist-packages/google/colab/userdata.py\u001b[0m in \u001b[0;36mget\u001b[0;34m(key)\u001b[0m\n\u001b[1;32m     66\u001b[0m     \u001b[0;32mraise\u001b[0m \u001b[0mTimeoutException\u001b[0m\u001b[0;34m(\u001b[0m\u001b[0mkey\u001b[0m\u001b[0;34m)\u001b[0m\u001b[0;34m\u001b[0m\u001b[0;34m\u001b[0m\u001b[0m\n\u001b[1;32m     67\u001b[0m   \u001b[0;32mif\u001b[0m \u001b[0;32mnot\u001b[0m \u001b[0mresp\u001b[0m\u001b[0;34m.\u001b[0m\u001b[0mget\u001b[0m\u001b[0;34m(\u001b[0m\u001b[0;34m'exists'\u001b[0m\u001b[0;34m,\u001b[0m \u001b[0;32mFalse\u001b[0m\u001b[0;34m)\u001b[0m\u001b[0;34m:\u001b[0m\u001b[0;34m\u001b[0m\u001b[0;34m\u001b[0m\u001b[0m\n\u001b[0;32m---> 68\u001b[0;31m     \u001b[0;32mraise\u001b[0m \u001b[0mSecretNotFoundError\u001b[0m\u001b[0;34m(\u001b[0m\u001b[0mkey\u001b[0m\u001b[0;34m)\u001b[0m\u001b[0;34m\u001b[0m\u001b[0;34m\u001b[0m\u001b[0m\n\u001b[0m\u001b[1;32m     69\u001b[0m   \u001b[0;32mif\u001b[0m \u001b[0;32mnot\u001b[0m \u001b[0mresp\u001b[0m\u001b[0;34m.\u001b[0m\u001b[0mget\u001b[0m\u001b[0;34m(\u001b[0m\u001b[0;34m'access'\u001b[0m\u001b[0;34m,\u001b[0m \u001b[0;32mFalse\u001b[0m\u001b[0;34m)\u001b[0m\u001b[0;34m:\u001b[0m\u001b[0;34m\u001b[0m\u001b[0;34m\u001b[0m\u001b[0m\n\u001b[1;32m     70\u001b[0m     \u001b[0;32mraise\u001b[0m \u001b[0mNotebookAccessError\u001b[0m\u001b[0;34m(\u001b[0m\u001b[0mkey\u001b[0m\u001b[0;34m)\u001b[0m\u001b[0;34m\u001b[0m\u001b[0;34m\u001b[0m\u001b[0m\n",
            "\u001b[0;31mSecretNotFoundError\u001b[0m: Secret github_token does not exist."
          ]
        }
      ]
    },
    {
      "cell_type": "markdown",
      "metadata": {
        "id": "6db55ba6"
      },
      "source": [
        "## Push changes\n",
        "\n",
        "### Subtask:\n",
        "Push the committed changes to the remote GitHub repository.\n"
      ]
    },
    {
      "cell_type": "markdown",
      "metadata": {
        "id": "25a1ec05"
      },
      "source": [
        "**Reasoning**:\n",
        "Retrieve the GitHub token from Colab secrets and use it to push the changes to the remote repository.\n",
        "\n"
      ]
    },
    {
      "cell_type": "code",
      "metadata": {
        "colab": {
          "base_uri": "https://localhost:8080/",
          "height": 332
        },
        "id": "820c5984",
        "outputId": "16cbef7b-5d92-48a4-ffc2-8f03e9abf1f6"
      },
      "source": [
        "import os\n",
        "from google.colab import userdata\n",
        "\n",
        "# Retrieve the GitHub token from Colab secrets\n",
        "github_token = userdata.get('github_token')\n",
        "\n",
        "if github_token:\n",
        "    # Use the token in the git push command\n",
        "    # The format for pushing with a token in the URL is:\n",
        "    # https://<token>@github.com/<username>/<repository>.git\n",
        "    # Make sure to replace <username> and <repository> with the actual values.\n",
        "    # The repository URL is already known from previous steps: Srinivasan7831/naan_mudhalvan.git\n",
        "    !git push https://{github_token}@github.com/Srinivasan7831/naan_mudhalvan.git main\n",
        "else:\n",
        "    print(\"GitHub token not found in Colab secrets. Please add it as 'github_token'.\")"
      ],
      "execution_count": null,
      "outputs": [
        {
          "output_type": "error",
          "ename": "SecretNotFoundError",
          "evalue": "Secret github_token does not exist.",
          "traceback": [
            "\u001b[0;31m---------------------------------------------------------------------------\u001b[0m",
            "\u001b[0;31mSecretNotFoundError\u001b[0m                       Traceback (most recent call last)",
            "\u001b[0;32m/tmp/ipython-input-761141405.py\u001b[0m in \u001b[0;36m<cell line: 0>\u001b[0;34m()\u001b[0m\n\u001b[1;32m      3\u001b[0m \u001b[0;34m\u001b[0m\u001b[0m\n\u001b[1;32m      4\u001b[0m \u001b[0;31m# Retrieve the GitHub token from Colab secrets\u001b[0m\u001b[0;34m\u001b[0m\u001b[0;34m\u001b[0m\u001b[0m\n\u001b[0;32m----> 5\u001b[0;31m \u001b[0mgithub_token\u001b[0m \u001b[0;34m=\u001b[0m \u001b[0muserdata\u001b[0m\u001b[0;34m.\u001b[0m\u001b[0mget\u001b[0m\u001b[0;34m(\u001b[0m\u001b[0;34m'github_token'\u001b[0m\u001b[0;34m)\u001b[0m\u001b[0;34m\u001b[0m\u001b[0;34m\u001b[0m\u001b[0m\n\u001b[0m\u001b[1;32m      6\u001b[0m \u001b[0;34m\u001b[0m\u001b[0m\n\u001b[1;32m      7\u001b[0m \u001b[0;32mif\u001b[0m \u001b[0mgithub_token\u001b[0m\u001b[0;34m:\u001b[0m\u001b[0;34m\u001b[0m\u001b[0;34m\u001b[0m\u001b[0m\n",
            "\u001b[0;32m/usr/local/lib/python3.12/dist-packages/google/colab/userdata.py\u001b[0m in \u001b[0;36mget\u001b[0;34m(key)\u001b[0m\n\u001b[1;32m     66\u001b[0m     \u001b[0;32mraise\u001b[0m \u001b[0mTimeoutException\u001b[0m\u001b[0;34m(\u001b[0m\u001b[0mkey\u001b[0m\u001b[0;34m)\u001b[0m\u001b[0;34m\u001b[0m\u001b[0;34m\u001b[0m\u001b[0m\n\u001b[1;32m     67\u001b[0m   \u001b[0;32mif\u001b[0m \u001b[0;32mnot\u001b[0m \u001b[0mresp\u001b[0m\u001b[0;34m.\u001b[0m\u001b[0mget\u001b[0m\u001b[0;34m(\u001b[0m\u001b[0;34m'exists'\u001b[0m\u001b[0;34m,\u001b[0m \u001b[0;32mFalse\u001b[0m\u001b[0;34m)\u001b[0m\u001b[0;34m:\u001b[0m\u001b[0;34m\u001b[0m\u001b[0;34m\u001b[0m\u001b[0m\n\u001b[0;32m---> 68\u001b[0;31m     \u001b[0;32mraise\u001b[0m \u001b[0mSecretNotFoundError\u001b[0m\u001b[0;34m(\u001b[0m\u001b[0mkey\u001b[0m\u001b[0;34m)\u001b[0m\u001b[0;34m\u001b[0m\u001b[0;34m\u001b[0m\u001b[0m\n\u001b[0m\u001b[1;32m     69\u001b[0m   \u001b[0;32mif\u001b[0m \u001b[0;32mnot\u001b[0m \u001b[0mresp\u001b[0m\u001b[0;34m.\u001b[0m\u001b[0mget\u001b[0m\u001b[0;34m(\u001b[0m\u001b[0;34m'access'\u001b[0m\u001b[0;34m,\u001b[0m \u001b[0;32mFalse\u001b[0m\u001b[0;34m)\u001b[0m\u001b[0;34m:\u001b[0m\u001b[0;34m\u001b[0m\u001b[0;34m\u001b[0m\u001b[0m\n\u001b[1;32m     70\u001b[0m     \u001b[0;32mraise\u001b[0m \u001b[0mNotebookAccessError\u001b[0m\u001b[0;34m(\u001b[0m\u001b[0mkey\u001b[0m\u001b[0;34m)\u001b[0m\u001b[0;34m\u001b[0m\u001b[0;34m\u001b[0m\u001b[0m\n",
            "\u001b[0;31mSecretNotFoundError\u001b[0m: Secret github_token does not exist."
          ]
        }
      ]
    },
    {
      "cell_type": "markdown",
      "metadata": {
        "id": "9652ff0d"
      },
      "source": [
        "## Push changes\n",
        "\n",
        "### Subtask:\n",
        "Push the committed changes to the remote GitHub repository.\n"
      ]
    },
    {
      "cell_type": "markdown",
      "metadata": {
        "id": "b9896605"
      },
      "source": [
        "**Reasoning**:\n",
        "Attempt to retrieve the GitHub token from Colab secrets and push the changes using the token if available, otherwise print an error message.\n",
        "\n"
      ]
    },
    {
      "cell_type": "code",
      "metadata": {
        "colab": {
          "base_uri": "https://localhost:8080/",
          "height": 332
        },
        "id": "64628e42",
        "outputId": "1df2ee34-bb57-4b58-e4a1-db57567b9abc"
      },
      "source": [
        "import os\n",
        "from google.colab import userdata\n",
        "\n",
        "# Retrieve the GitHub token from Colab secrets\n",
        "github_token = userdata.get('github_token')\n",
        "\n",
        "if github_token:\n",
        "    # Use the token in the git push command\n",
        "    # The format for pushing with a token in the URL is:\n",
        "    # https://<token>@github.com/<username>/<repository>.git\n",
        "    # Make sure to replace <username> and <repository> with the actual values.\n",
        "    # The repository URL is already known from previous steps: Srinivasan7831/naan_mudhalvan.git\n",
        "    # Ensure we are in the correct directory before pushing\n",
        "    if os.path.basename(os.getcwd()) != 'naan_mudhalvan':\n",
        "        os.chdir('naan_mudhalvan')\n",
        "        print(\"Changed directory to naan_mudhalvan\")\n",
        "\n",
        "    !git push https://{github_token}@github.com/Srinivasan7831/naan_mudhalvan.git main\n",
        "else:\n",
        "    print(\"GitHub token not found in Colab secrets. Please add it as 'github_token'.\")"
      ],
      "execution_count": null,
      "outputs": [
        {
          "output_type": "error",
          "ename": "SecretNotFoundError",
          "evalue": "Secret github_token does not exist.",
          "traceback": [
            "\u001b[0;31m---------------------------------------------------------------------------\u001b[0m",
            "\u001b[0;31mSecretNotFoundError\u001b[0m                       Traceback (most recent call last)",
            "\u001b[0;32m/tmp/ipython-input-2739498993.py\u001b[0m in \u001b[0;36m<cell line: 0>\u001b[0;34m()\u001b[0m\n\u001b[1;32m      3\u001b[0m \u001b[0;34m\u001b[0m\u001b[0m\n\u001b[1;32m      4\u001b[0m \u001b[0;31m# Retrieve the GitHub token from Colab secrets\u001b[0m\u001b[0;34m\u001b[0m\u001b[0;34m\u001b[0m\u001b[0m\n\u001b[0;32m----> 5\u001b[0;31m \u001b[0mgithub_token\u001b[0m \u001b[0;34m=\u001b[0m \u001b[0muserdata\u001b[0m\u001b[0;34m.\u001b[0m\u001b[0mget\u001b[0m\u001b[0;34m(\u001b[0m\u001b[0;34m'github_token'\u001b[0m\u001b[0;34m)\u001b[0m\u001b[0;34m\u001b[0m\u001b[0;34m\u001b[0m\u001b[0m\n\u001b[0m\u001b[1;32m      6\u001b[0m \u001b[0;34m\u001b[0m\u001b[0m\n\u001b[1;32m      7\u001b[0m \u001b[0;32mif\u001b[0m \u001b[0mgithub_token\u001b[0m\u001b[0;34m:\u001b[0m\u001b[0;34m\u001b[0m\u001b[0;34m\u001b[0m\u001b[0m\n",
            "\u001b[0;32m/usr/local/lib/python3.12/dist-packages/google/colab/userdata.py\u001b[0m in \u001b[0;36mget\u001b[0;34m(key)\u001b[0m\n\u001b[1;32m     66\u001b[0m     \u001b[0;32mraise\u001b[0m \u001b[0mTimeoutException\u001b[0m\u001b[0;34m(\u001b[0m\u001b[0mkey\u001b[0m\u001b[0;34m)\u001b[0m\u001b[0;34m\u001b[0m\u001b[0;34m\u001b[0m\u001b[0m\n\u001b[1;32m     67\u001b[0m   \u001b[0;32mif\u001b[0m \u001b[0;32mnot\u001b[0m \u001b[0mresp\u001b[0m\u001b[0;34m.\u001b[0m\u001b[0mget\u001b[0m\u001b[0;34m(\u001b[0m\u001b[0;34m'exists'\u001b[0m\u001b[0;34m,\u001b[0m \u001b[0;32mFalse\u001b[0m\u001b[0;34m)\u001b[0m\u001b[0;34m:\u001b[0m\u001b[0;34m\u001b[0m\u001b[0;34m\u001b[0m\u001b[0m\n\u001b[0;32m---> 68\u001b[0;31m     \u001b[0;32mraise\u001b[0m \u001b[0mSecretNotFoundError\u001b[0m\u001b[0;34m(\u001b[0m\u001b[0mkey\u001b[0m\u001b[0;34m)\u001b[0m\u001b[0;34m\u001b[0m\u001b[0;34m\u001b[0m\u001b[0m\n\u001b[0m\u001b[1;32m     69\u001b[0m   \u001b[0;32mif\u001b[0m \u001b[0;32mnot\u001b[0m \u001b[0mresp\u001b[0m\u001b[0;34m.\u001b[0m\u001b[0mget\u001b[0m\u001b[0;34m(\u001b[0m\u001b[0;34m'access'\u001b[0m\u001b[0;34m,\u001b[0m \u001b[0;32mFalse\u001b[0m\u001b[0;34m)\u001b[0m\u001b[0;34m:\u001b[0m\u001b[0;34m\u001b[0m\u001b[0;34m\u001b[0m\u001b[0m\n\u001b[1;32m     70\u001b[0m     \u001b[0;32mraise\u001b[0m \u001b[0mNotebookAccessError\u001b[0m\u001b[0;34m(\u001b[0m\u001b[0mkey\u001b[0m\u001b[0;34m)\u001b[0m\u001b[0;34m\u001b[0m\u001b[0;34m\u001b[0m\u001b[0m\n",
            "\u001b[0;31mSecretNotFoundError\u001b[0m: Secret github_token does not exist."
          ]
        }
      ]
    },
    {
      "cell_type": "markdown",
      "metadata": {
        "id": "35a986ea"
      },
      "source": [
        "## Summary:\n",
        "\n",
        "### Data Analysis Key Findings\n",
        "\n",
        "*   Git was confirmed to be already installed in the environment.\n",
        "*   Git user name and email were successfully configured.\n",
        "*   The target GitHub repository \"https://github.com/Srinivasan7831/naan\\_mudhalvan.git\" was successfully cloned, although the repository appeared to be empty at the time of cloning.\n",
        "*   The `app.py` and `colors.csv` files were successfully created/copied into the cloned repository directory (`naan_mudhalvan`).\n",
        "*   The `app.py` and `colors.csv` files were successfully added to the Git staging area.\n",
        "*   The changes were successfully committed to the local repository with the message \"Add Streamlit app code and colors dataset\".\n",
        "*   The attempts to push the committed changes to the remote repository failed due to the absence of a GitHub token named `github_token` in Colab secrets.\n",
        "\n",
        "### Insights or Next Steps\n",
        "\n",
        "*   The primary next step is to ensure the GitHub token is correctly added to Colab secrets under the key `github_token` to enable successful authentication for pushing changes to the remote repository.\n",
        "*   After adding the token, retry the `git push` command.\n"
      ]
    }
  ]
}